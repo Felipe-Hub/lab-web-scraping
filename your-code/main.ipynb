{
 "cells": [
  {
   "cell_type": "markdown",
   "metadata": {
    "colab_type": "text",
    "id": "mGXnZk8JVY6U"
   },
   "source": [
    "# Web Scraping Lab\n",
    "\n",
    "You will find in this notebook some scrapy exercises to practise your scraping skills.\n",
    "\n",
    "**Tips:**\n",
    "\n",
    "- Check the response status code for each request to ensure you have obtained the intended content.\n",
    "- Print the response text in each request to understand the kind of info you are getting and its format.\n",
    "- Check for patterns in the response text to extract the data/info requested in each question.\n",
    "- Visit the urls below and take a look at their source code through Chrome DevTools. You'll need to identify the html tags, special class names, etc used in the html content you are expected to extract.\n",
    "\n",
    "**Resources**:\n",
    "- [Requests library](http://docs.python-requests.org/en/master/#the-user-guide)\n",
    "- [Beautiful Soup Doc](https://www.crummy.com/software/BeautifulSoup/bs4/doc/)\n",
    "- [Urllib](https://docs.python.org/3/library/urllib.html#module-urllib)\n",
    "- [re lib](https://docs.python.org/3/library/re.html)\n",
    "- [lxml lib](https://lxml.de/)\n",
    "- [Scrapy](https://scrapy.org/)\n",
    "- [List of HTTP status codes](https://en.wikipedia.org/wiki/List_of_HTTP_status_codes)\n",
    "- [HTML basics](http://www.simplehtmlguide.com/cheatsheet.php)\n",
    "- [CSS basics](https://www.cssbasics.com/#page_start)"
   ]
  },
  {
   "cell_type": "markdown",
   "metadata": {
    "colab_type": "text",
    "id": "0bfYu-asVY6b"
   },
   "source": [
    "#### Below are the libraries and modules you may need. `requests`,  `BeautifulSoup` and `pandas` are already imported for you. If you prefer to use additional libraries feel free to do it."
   ]
  },
  {
   "cell_type": "code",
   "execution_count": 2,
   "metadata": {
    "colab": {},
    "colab_type": "code",
    "id": "uRNODwgfVY6d"
   },
   "outputs": [],
   "source": [
    "import requests\n",
    "from bs4 import BeautifulSoup\n",
    "import pandas as pd"
   ]
  },
  {
   "cell_type": "markdown",
   "metadata": {
    "colab_type": "text",
    "id": "Ee0Ho7OEVY6k"
   },
   "source": [
    "#### Download, parse (using BeautifulSoup), and print the content from the Trending Developers page from GitHub:"
   ]
  },
  {
   "cell_type": "code",
   "execution_count": 0,
   "metadata": {
    "colab": {},
    "colab_type": "code",
    "id": "8eh24XUZVY6m"
   },
   "outputs": [],
   "source": []
  },
  {
   "cell_type": "code",
   "execution_count": 1,
   "metadata": {
    "colab": {
     "base_uri": "https://localhost:8080/",
     "height": 1000
    },
    "colab_type": "code",
    "id": "1xFpnK9UVY6r",
    "outputId": "8f19e20b-4f2d-4a05-b461-cf6af8d862bf"
   },
   "outputs": [
    {
     "ename": "NameError",
     "evalue": "name 'requests' is not defined",
     "output_type": "error",
     "traceback": [
      "\u001b[1;31m---------------------------------------------------------------------------\u001b[0m",
      "\u001b[1;31mNameError\u001b[0m                                 Traceback (most recent call last)",
      "\u001b[1;32m<ipython-input-1-f02e03b530b4>\u001b[0m in \u001b[0;36m<module>\u001b[1;34m\u001b[0m\n\u001b[0;32m      1\u001b[0m \u001b[1;31m# your code here\u001b[0m\u001b[1;33m\u001b[0m\u001b[1;33m\u001b[0m\u001b[1;33m\u001b[0m\u001b[0m\n\u001b[1;32m----> 2\u001b[1;33m \u001b[0mhtml\u001b[0m \u001b[1;33m=\u001b[0m \u001b[0mrequests\u001b[0m\u001b[1;33m.\u001b[0m\u001b[0mget\u001b[0m\u001b[1;33m(\u001b[0m\u001b[0murl\u001b[0m\u001b[1;33m)\u001b[0m\u001b[1;33m.\u001b[0m\u001b[0mcontent\u001b[0m\u001b[1;33m\u001b[0m\u001b[1;33m\u001b[0m\u001b[0m\n\u001b[0m\u001b[0;32m      3\u001b[0m \u001b[0msoup\u001b[0m \u001b[1;33m=\u001b[0m \u001b[0mBeautifulSoup\u001b[0m\u001b[1;33m(\u001b[0m\u001b[0mhtml\u001b[0m\u001b[1;33m,\u001b[0m \u001b[1;34m\"lxml\"\u001b[0m\u001b[1;33m)\u001b[0m\u001b[1;33m\u001b[0m\u001b[1;33m\u001b[0m\u001b[0m\n\u001b[0;32m      4\u001b[0m \u001b[1;31m#soup\u001b[0m\u001b[1;33m\u001b[0m\u001b[1;33m\u001b[0m\u001b[1;33m\u001b[0m\u001b[0m\n",
      "\u001b[1;31mNameError\u001b[0m: name 'requests' is not defined"
     ]
    }
   ],
   "source": [
    "# your code here\n",
    "html = requests.get(url).content\n",
    "soup = BeautifulSoup(html, \"lxml\")\n",
    "#soup"
   ]
  },
  {
   "cell_type": "markdown",
   "metadata": {
    "colab_type": "text",
    "id": "dn1xafZNVY6z"
   },
   "source": [
    "#### Display the names of the trending developers retrieved in the previous step.\n",
    "\n",
    "Your output should be a Python list of developer names. Each name should not contain any html tag.\n",
    "\n",
    "**Instructions:**\n",
    "\n",
    "1. Find out the html tag and class names used for the developer names. You can achieve this using Chrome DevTools.\n",
    "\n",
    "1. Use BeautifulSoup to extract all the html elements that contain the developer names.\n",
    "\n",
    "1. Use string manipulation techniques to replace whitespaces and linebreaks (i.e. `\\n`) in the *text* of each html element. Use a list to store the clean names.\n",
    "\n",
    "1. Print the list of names.\n",
    "\n",
    "Your output should look like below:\n",
    "\n",
    "```\n",
    "['trimstray (@trimstray)',\n",
    " 'joewalnes (JoeWalnes)',\n",
    " 'charlax (Charles-AxelDein)',\n",
    " 'ForrestKnight (ForrestKnight)',\n",
    " 'revery-ui (revery-ui)',\n",
    " 'alibaba (Alibaba)',\n",
    " 'Microsoft (Microsoft)',\n",
    " 'github (GitHub)',\n",
    " 'facebook (Facebook)',\n",
    " 'boazsegev (Bo)',\n",
    " 'google (Google)',\n",
    " 'cloudfetch',\n",
    " 'sindresorhus (SindreSorhus)',\n",
    " 'tensorflow',\n",
    " 'apache (TheApacheSoftwareFoundation)',\n",
    " 'DevonCrawford (DevonCrawford)',\n",
    " 'ARMmbed (ArmMbed)',\n",
    " 'vuejs (vuejs)',\n",
    " 'fastai (fast.ai)',\n",
    " 'QiShaoXuan (Qi)',\n",
    " 'joelparkerhenderson (JoelParkerHenderson)',\n",
    " 'torvalds (LinusTorvalds)',\n",
    " 'CyC2018',\n",
    " 'komeiji-satori (神楽坂覚々)',\n",
    " 'script-8']\n",
    " ```"
   ]
  },
  {
   "cell_type": "code",
   "execution_count": 0,
   "metadata": {
    "colab": {
     "base_uri": "https://localhost:8080/",
     "height": 423
    },
    "colab_type": "code",
    "id": "FsSizXUSVY61",
    "outputId": "3baee8ef-0203-4477-cb1a-88f494051d97"
   },
   "outputs": [
    {
     "data": {
      "text/plain": [
       "['Emmanuel Garcia (blasten)',\n",
       " 'Hugo van Kemenade (hugovk)',\n",
       " 'Darío Kondratiuk (kblok)',\n",
       " 'Megan Marsh (SwampDragons)',\n",
       " 'Minko Gechev (mgechev)',\n",
       " 'William Falcon (williamFalcon)',\n",
       " 'Yoshifumi Kawai (neuecc)',\n",
       " 'Mateusz Burzyński (Andarist)',\n",
       " 'Sam Verschueren (SamVerschueren)',\n",
       " 'Whyrusleeping (whyrusleeping)',\n",
       " 'Holger Rapp (SirVer)',\n",
       " 'Francois Zaninotto (fzaninotto)',\n",
       " 'Dylan Vann (DylanVann)',\n",
       " 'Miek Gieben (miekg)',\n",
       " 'Richard Schneeman (schneems)',\n",
       " 'Alec Thomas (alecthomas)',\n",
       " '陈帅 (chenshuai2144)',\n",
       " 'François Beaufort (beaufortfrancois)',\n",
       " 'Tanner Linsley (tannerlinsley)',\n",
       " 'Erik Wijmans (erikwijmans)',\n",
       " 'Joshua Blum (joshblum)',\n",
       " 'Gabriel Aszalos (gbbr)',\n",
       " 'Rico Sta. Cruz (rstacruz)',\n",
       " 'Solly Ross (DirectXMan12)',\n",
       " 'Vinayak Mehta (vinayak-mehta)']"
      ]
     },
     "execution_count": 4,
     "metadata": {
      "tags": []
     },
     "output_type": "execute_result"
    }
   ],
   "source": [
    "# your code here\n",
    "dev_names =  [element.text.replace('\\n', '').replace('            ', '') for element in soup.find_all(\n",
    "    'h1', attrs = {'class':'h3 lh-condensed'})]\n",
    "dev_nicks =  [element.text.replace('\\n', '').replace('              ', '(') for element in soup.find_all(\n",
    "    'p', attrs = {'class':'f4 text-normal mb-1'})]\n",
    "dev_nicks = list(map(lambda x: x+')', dev_nicks))\n",
    "zipped = list(zip(dev_names, dev_nicks))\n",
    "list(map(lambda x: ' '.join(x), zipped))"
   ]
  },
  {
   "cell_type": "markdown",
   "metadata": {
    "colab_type": "text",
    "id": "ATIZKinBVY66"
   },
   "source": [
    "#### Display the trending Python repositories in GitHub.\n",
    "\n",
    "The steps to solve this problem is similar to the previous one except that you need to find out the repository names instead of developer names."
   ]
  },
  {
   "cell_type": "code",
   "execution_count": 0,
   "metadata": {
    "colab": {},
    "colab_type": "code",
    "id": "E2GV104jVY68"
   },
   "outputs": [],
   "source": [
    "# This is the url you will scrape in this exercise\n",
    "url = 'https://github.com/trending/python?since=daily'"
   ]
  },
  {
   "cell_type": "code",
   "execution_count": 0,
   "metadata": {
    "colab": {
     "base_uri": "https://localhost:8080/",
     "height": 423
    },
    "colab_type": "code",
    "id": "mOXDC6XhVY7B",
    "outputId": "fa4909c5-39b3-4292-c5d0-752144265f03"
   },
   "outputs": [
    {
     "data": {
      "text/plain": [
       "['deezer / spleeter',\n",
       " 'openai / gpt-2',\n",
       " 'PaddlePaddle / models',\n",
       " '0voice / interview_internal_reference',\n",
       " 'kubernetes-client / python',\n",
       " 'svjan5 / GNNs-for-NLP',\n",
       " 'Linzaer / Ultra-Light-Fast-Generic-Face-Detector-1MB',\n",
       " 'huggingface / transformers',\n",
       " 'MalongTech / research-charnet',\n",
       " 'thorn-oss / perception',\n",
       " 'eastlakeside / interpy-zh',\n",
       " 'Azure / azure-cli',\n",
       " 'encode / django-rest-framework',\n",
       " 'wangzheng0822 / algo',\n",
       " 'marshmallow-code / marshmallow',\n",
       " 'tensorflow / models',\n",
       " 'momika233 / ClamAV_0Day_exploit',\n",
       " 'zihangdai / xlnet',\n",
       " 'sinovation / ZEN',\n",
       " 'shenweichen / DeepCTR',\n",
       " 'google-research / bert',\n",
       " 'geekcomputers / Python',\n",
       " 'facebookresearch / hydra',\n",
       " 'encode / httpx',\n",
       " 'charlesq34 / pointnet2']"
      ]
     },
     "execution_count": 6,
     "metadata": {
      "tags": []
     },
     "output_type": "execute_result"
    }
   ],
   "source": [
    "# your code here\n",
    "html = requests.get(url).content\n",
    "soup = BeautifulSoup(html, \"lxml\")\n",
    "repo_names =  [element.text.replace('\\n', '').replace(\n",
    "    '        ', '').replace('     ', '') for element in soup.find_all(\n",
    "    'h1', attrs = {'class':'h3 lh-condensed'})]\n",
    "\n",
    "repo_names"
   ]
  },
  {
   "cell_type": "markdown",
   "metadata": {
    "colab_type": "text",
    "id": "MIxdg2caVY7G"
   },
   "source": [
    "#### Display all the image links from Walt Disney wikipedia page."
   ]
  },
  {
   "cell_type": "code",
   "execution_count": 0,
   "metadata": {
    "colab": {},
    "colab_type": "code",
    "id": "wNmqilNCVY7I"
   },
   "outputs": [],
   "source": [
    "# This is the url you will scrape in this exercise\n",
    "url = 'https://en.wikipedia.org/wiki/Walt_Disney'"
   ]
  },
  {
   "cell_type": "code",
   "execution_count": 0,
   "metadata": {
    "colab": {
     "base_uri": "https://localhost:8080/",
     "height": 590
    },
    "colab_type": "code",
    "id": "eccmClpqVY7M",
    "outputId": "34ec0fd5-df69-4f20-ee40-8c21fdd90ec2"
   },
   "outputs": [
    {
     "data": {
      "text/plain": [
       "['//upload.wikimedia.org/wikipedia/en/thumb/e/e7/Cscr-featured.svg/20px-Cscr-featured.svg.png',\n",
       " '//upload.wikimedia.org/wikipedia/en/thumb/1/1b/Semi-protection-shackle.svg/20px-Semi-protection-shackle.svg.png',\n",
       " '//upload.wikimedia.org/wikipedia/commons/thumb/d/df/Walt_Disney_1946.JPG/220px-Walt_Disney_1946.JPG',\n",
       " '//upload.wikimedia.org/wikipedia/commons/thumb/8/87/Walt_Disney_1942_signature.svg/150px-Walt_Disney_1942_signature.svg.png',\n",
       " '//upload.wikimedia.org/wikipedia/commons/thumb/c/c4/Walt_Disney_envelope_ca._1921.jpg/220px-Walt_Disney_envelope_ca._1921.jpg',\n",
       " '//upload.wikimedia.org/wikipedia/commons/thumb/4/4d/Newman_Laugh-O-Gram_%281921%29.webm/220px-seek%3D2-Newman_Laugh-O-Gram_%281921%29.webm.jpg',\n",
       " '//upload.wikimedia.org/wikipedia/commons/thumb/0/0d/Trolley_Troubles_poster.jpg/170px-Trolley_Troubles_poster.jpg',\n",
       " '//upload.wikimedia.org/wikipedia/commons/thumb/7/71/Walt_Disney_and_his_cartoon_creation_%22Mickey_Mouse%22_-_National_Board_of_Review_Magazine.jpg/170px-Walt_Disney_and_his_cartoon_creation_%22Mickey_Mouse%22_-_National_Board_of_Review_Magazine.jpg',\n",
       " '//upload.wikimedia.org/wikipedia/en/thumb/4/4e/Steamboat-willie.jpg/170px-Steamboat-willie.jpg',\n",
       " '//upload.wikimedia.org/wikipedia/commons/thumb/5/57/Walt_Disney_1935.jpg/170px-Walt_Disney_1935.jpg',\n",
       " '//upload.wikimedia.org/wikipedia/commons/thumb/c/cd/Walt_Disney_Snow_white_1937_trailer_screenshot_%2813%29.jpg/220px-Walt_Disney_Snow_white_1937_trailer_screenshot_%2813%29.jpg',\n",
       " '//upload.wikimedia.org/wikipedia/commons/thumb/1/15/Disney_drawing_goofy.jpg/170px-Disney_drawing_goofy.jpg',\n",
       " '//upload.wikimedia.org/wikipedia/commons/thumb/1/13/DisneySchiphol1951.jpg/220px-DisneySchiphol1951.jpg',\n",
       " '//upload.wikimedia.org/wikipedia/commons/thumb/8/8c/WaltDisneyplansDisneylandDec1954.jpg/220px-WaltDisneyplansDisneylandDec1954.jpg',\n",
       " '//upload.wikimedia.org/wikipedia/commons/thumb/f/ff/Walt_disney_portrait_right.jpg/170px-Walt_disney_portrait_right.jpg',\n",
       " '//upload.wikimedia.org/wikipedia/commons/thumb/1/1a/Walt_Disney_Grave.JPG/170px-Walt_Disney_Grave.JPG',\n",
       " '//upload.wikimedia.org/wikipedia/commons/thumb/2/2d/Roy_O._Disney_with_Company_at_Press_Conference.jpg/170px-Roy_O._Disney_with_Company_at_Press_Conference.jpg',\n",
       " '//upload.wikimedia.org/wikipedia/commons/thumb/a/a9/Disney_Display_Case.JPG/170px-Disney_Display_Case.JPG',\n",
       " '//upload.wikimedia.org/wikipedia/commons/thumb/6/6c/Disney1968.jpg/170px-Disney1968.jpg',\n",
       " '//upload.wikimedia.org/wikipedia/en/thumb/8/8a/OOjs_UI_icon_edit-ltr-progressive.svg/10px-OOjs_UI_icon_edit-ltr-progressive.svg.png',\n",
       " '//upload.wikimedia.org/wikipedia/commons/thumb/d/da/Animation_disc.svg/30px-Animation_disc.svg.png',\n",
       " '//upload.wikimedia.org/wikipedia/en/thumb/6/69/P_vip.svg/29px-P_vip.svg.png',\n",
       " '//upload.wikimedia.org/wikipedia/commons/thumb/1/1a/Magic_Kingdom_castle.jpg/24px-Magic_Kingdom_castle.jpg',\n",
       " '//upload.wikimedia.org/wikipedia/en/thumb/e/e7/Video-x-generic.svg/30px-Video-x-generic.svg.png',\n",
       " '//upload.wikimedia.org/wikipedia/commons/thumb/a/a3/Flag_of_Los_Angeles_County%2C_California.svg/30px-Flag_of_Los_Angeles_County%2C_California.svg.png',\n",
       " '//upload.wikimedia.org/wikipedia/commons/thumb/8/8c/Blank_television_set.svg/30px-Blank_television_set.svg.png',\n",
       " '//upload.wikimedia.org/wikipedia/en/thumb/a/a4/Flag_of_the_United_States.svg/30px-Flag_of_the_United_States.svg.png',\n",
       " '//upload.wikimedia.org/wikipedia/en/thumb/4/4a/Commons-logo.svg/22px-Commons-logo.svg.png',\n",
       " '//upload.wikimedia.org/wikipedia/commons/thumb/f/fa/Wikiquote-logo.svg/25px-Wikiquote-logo.svg.png',\n",
       " '//upload.wikimedia.org/wikipedia/commons/thumb/f/ff/Wikidata-logo.svg/30px-Wikidata-logo.svg.png',\n",
       " '//upload.wikimedia.org/wikipedia/en/thumb/8/8a/OOjs_UI_icon_edit-ltr-progressive.svg/10px-OOjs_UI_icon_edit-ltr-progressive.svg.png',\n",
       " '//en.wikipedia.org/wiki/Special:CentralAutoLogin/start?type=1x1',\n",
       " '/static/images/wikimedia-button.png',\n",
       " '/static/images/poweredby_mediawiki_88x31.png']"
      ]
     },
     "execution_count": 8,
     "metadata": {
      "tags": []
     },
     "output_type": "execute_result"
    }
   ],
   "source": [
    "# your code here\n",
    "html = requests.get(url).content\n",
    "soup = BeautifulSoup(html, \"lxml\")\n",
    "image_links =  [element.get('src') for element in soup.find_all('img')]\n",
    "image_links"
   ]
  },
  {
   "cell_type": "markdown",
   "metadata": {
    "colab_type": "text",
    "id": "tO5fcG7UVY7T"
   },
   "source": [
    "#### Find the number of titles that have changed in the United States Code since its last release point."
   ]
  },
  {
   "cell_type": "code",
   "execution_count": 0,
   "metadata": {
    "colab": {},
    "colab_type": "code",
    "id": "amtdAah_VY7W"
   },
   "outputs": [],
   "source": [
    "# This is the url you will scrape in this exercise\n",
    "url = 'http://uscode.house.gov/download/download.shtml'\n",
    "html = requests.get(url).content\n",
    "soup = BeautifulSoup(html, \"lxml\")"
   ]
  },
  {
   "cell_type": "code",
   "execution_count": 0,
   "metadata": {
    "colab": {
     "base_uri": "https://localhost:8080/",
     "height": 33
    },
    "colab_type": "code",
    "id": "Xr8ElPtQVY7b",
    "outputId": "72bd5fd5-ded3-4c8e-af26-f827c68afd23"
   },
   "outputs": [
    {
     "data": {
      "text/plain": [
       "2"
      ]
     },
     "execution_count": 10,
     "metadata": {
      "tags": []
     },
     "output_type": "execute_result"
    }
   ],
   "source": [
    "# your code here\n",
    "changed_titles =  [element.text.replace('\\n', '')for element in soup.find_all(\n",
    "    'div', attrs = {'class':'usctitlechanged'})]\n",
    "len(changed_titles)"
   ]
  },
  {
   "cell_type": "markdown",
   "metadata": {
    "colab_type": "text",
    "id": "L1q-zUtaVY7f"
   },
   "source": [
    "#### Find a Python list with the top ten FBI's Most Wanted names."
   ]
  },
  {
   "cell_type": "code",
   "execution_count": 0,
   "metadata": {
    "colab": {},
    "colab_type": "code",
    "id": "8wi1UQiuVY7h"
   },
   "outputs": [],
   "source": [
    "# This is the url you will scrape in this exercise\n",
    "url = 'https://www.fbi.gov/wanted/topten'\n",
    "html = requests.get(url).content\n",
    "soup = BeautifulSoup(html, \"lxml\")"
   ]
  },
  {
   "cell_type": "code",
   "execution_count": 0,
   "metadata": {
    "colab": {
     "base_uri": "https://localhost:8080/",
     "height": 180
    },
    "colab_type": "code",
    "id": "DAmJxbl_VY7l",
    "outputId": "b50c336d-3970-44dc-bf01-a8d34659996a"
   },
   "outputs": [
    {
     "data": {
      "text/plain": [
       "['ALEXIS FLORES',\n",
       " 'EUGENE PALMER',\n",
       " 'SANTIAGO VILLALBA MEDEROS',\n",
       " 'RAFAEL CARO-QUINTERO',\n",
       " 'ROBERT WILLIAM FISHER',\n",
       " 'BHADRESHKUMAR CHETANBHAI PATEL',\n",
       " 'ARNOLDO JIMENEZ',\n",
       " 'ALEJANDRO ROSALES CASTILLO',\n",
       " 'YASER ABDEL SAID',\n",
       " 'JASON DEREK BROWN']"
      ]
     },
     "execution_count": 12,
     "metadata": {
      "tags": []
     },
     "output_type": "execute_result"
    }
   ],
   "source": [
    "# your code here\n",
    "most_wanted =  [element.text.replace('\\n', '') for element in soup.find_all(\n",
    "    'h3', attrs = {'class':'title'})]\n",
    "most_wanted"
   ]
  },
  {
   "cell_type": "markdown",
   "metadata": {
    "colab_type": "text",
    "id": "H52QJPnPVY7t"
   },
   "source": [
    "#### Count the number of tweets by a given Twitter account.\n",
    "Ask the user for the handle (@handle) of a twitter account. You will need to include a ***try/except block*** for account names not found. \n",
    "<br>***Hint:*** the program should count the number of tweets for any provided account."
   ]
  },
  {
   "cell_type": "code",
   "execution_count": 0,
   "metadata": {
    "colab": {},
    "colab_type": "code",
    "id": "oF0ws9YxVY7u"
   },
   "outputs": [],
   "source": [
    "# This is the url you will scrape in this exercise \n",
    "# You will need to add the account credentials to this url\n",
    "import tweepy\n",
    "#handle = input('Input the account')\n",
    "url = 'https://twitter.com/@rcfelipe' #+ handle\n",
    "\n",
    "\n",
    "API_KEY = \"wOiBiKvUTP8S9TM6WuxuB6NIi\"\n",
    "API_SECRET = \"xwFQYV7PVR4DoJzEqJQnTsBXOmBJA81LwfCcAV3mkfSM4jXGij\"\n",
    "ACCESS_TOKEN = \"1191677604270657536-tyW1LL7d1WuUmLLDF6bEf2R8622Lb5\"\n",
    "ACCESS_TOKEN_SECRET = \"V6YQVmev305w0HeTMThACS5rCBuJUH3sCylXDxWagERCq\"\n",
    "\n",
    "auth = tweepy.OAuthHandler(API_KEY, API_SECRET)\n",
    "auth.set_access_token(ACCESS_TOKEN, ACCESS_TOKEN_SECRET)\n",
    "api = tweepy.API(auth)\n"
   ]
  },
  {
   "cell_type": "code",
   "execution_count": 0,
   "metadata": {
    "colab": {
     "base_uri": "https://localhost:8080/",
     "height": 33
    },
    "colab_type": "code",
    "id": "Wul2zm0rVY7z",
    "outputId": "e6e01754-9f52-48cd-a7e4-b275009cd342"
   },
   "outputs": [
    {
     "data": {
      "text/plain": [
       "4062"
      ]
     },
     "execution_count": 14,
     "metadata": {
      "tags": []
     },
     "output_type": "execute_result"
    }
   ],
   "source": [
    "# your code here\n",
    "def get_tweets(user):\n",
    "    try:\n",
    "      return api.get_user(user).statuses_count\n",
    "    except:\n",
    "      return \"User not found\"\n",
    "get_tweets('ironhack')"
   ]
  },
  {
   "cell_type": "markdown",
   "metadata": {
    "colab_type": "text",
    "id": "V41aeCgkVY73"
   },
   "source": [
    "#### Number of followers of a given twitter account\n",
    "Ask the user for the handle (@handle) of a twitter account. You will need to include a ***try/except block*** for account names not found. \n",
    "<br>***Hint:*** the program should count the followers for any provided account."
   ]
  },
  {
   "cell_type": "code",
   "execution_count": 0,
   "metadata": {
    "colab": {},
    "colab_type": "code",
    "id": "qlJ4FpcnVY75"
   },
   "outputs": [],
   "source": [
    "# This is the url you will scrape in this exercise \n",
    "# You will need to add the account credentials to this url\n",
    "url = 'https://twitter.com/'"
   ]
  },
  {
   "cell_type": "code",
   "execution_count": 0,
   "metadata": {
    "colab": {
     "base_uri": "https://localhost:8080/",
     "height": 33
    },
    "colab_type": "code",
    "id": "WkX1E5IVVY79",
    "outputId": "ed97041c-20b0-4ce0-bd4b-43360101ae30"
   },
   "outputs": [
    {
     "data": {
      "text/plain": [
       "227"
      ]
     },
     "execution_count": 33,
     "metadata": {
      "tags": []
     },
     "output_type": "execute_result"
    }
   ],
   "source": [
    "# your code here\n",
    "def get_followers(user):\n",
    "    try:\n",
    "        return len(api.followers_ids(user))\n",
    "    except:\n",
    "        return \"User not found\"\n",
    "\n",
    "#def get_followers(user):\n",
    "#    html = requests.get(url+user).content\n",
    "#    soup = BeautifulSoup(html, \"lxml\")\n",
    "#    results = [element for element in soup.find_all('span', attrs = {\n",
    "#        'class': ''})]\n",
    "#    return results\n",
    "\n",
    "# Feels like all the solutions I found has a limit of followers to count\n",
    "\n",
    "get_followers('@rcfelipe')"
   ]
  },
  {
   "cell_type": "markdown",
   "metadata": {
    "colab_type": "text",
    "id": "s8p7SoEvVY8C"
   },
   "source": [
    "#### List all language names and number of related articles in the order they appear in wikipedia.org."
   ]
  },
  {
   "cell_type": "code",
   "execution_count": 0,
   "metadata": {
    "colab": {},
    "colab_type": "code",
    "id": "VBTsXboNVY8D"
   },
   "outputs": [],
   "source": [
    "# This is the url you will scrape in this exercise\n",
    "url = 'https://www.wikipedia.org/'"
   ]
  },
  {
   "cell_type": "code",
   "execution_count": 0,
   "metadata": {
    "colab": {
     "base_uri": "https://localhost:8080/",
     "height": 180
    },
    "colab_type": "code",
    "id": "hgGMoZSbVY8N",
    "outputId": "e77f3bb7-8465-45df-dcd6-5d27e14d2897"
   },
   "outputs": [
    {
     "data": {
      "text/plain": [
       "['English 5.964.000+ articles',\n",
       " 'Español 1.554.000+ artículos',\n",
       " '日本語 1.175.000+ 記事',\n",
       " 'Deutsch 2.361.000+ Artikel',\n",
       " 'Русский 1.576.000+ статей',\n",
       " 'Français 2.152.000+ articles',\n",
       " 'Italiano 1.562.000+ voci',\n",
       " '中文 1.080.000+ 條目',\n",
       " 'Português 1.014.000+ artigos',\n",
       " 'Polski 1.367.000+ haseł']"
      ]
     },
     "execution_count": 28,
     "metadata": {
      "tags": []
     },
     "output_type": "execute_result"
    }
   ],
   "source": [
    "# your code here\n",
    "html = requests.get(url).content\n",
    "soup = BeautifulSoup(html, \"lxml\")\n",
    "#[element.text for element in soup.find_all_next('div', attrs = {'dir':'ltr'})]\n",
    "#lst_div = [' '.join(element.get('class')) for element in soup.find_all('div')]\n",
    "#lst_lang = [element for element in lst_div if element.startswith('central-featured-lang')]\n",
    "#lst_all = [element for element in list(map(lambda x : soup.find_all('div', attrs = {'class': x}), lst_lang))]\n",
    "#languages = [element.text for element in soup.find_all('div', attrs = {'class': 'central-featured-lang lang1'})]\n",
    "\n",
    "languages = [element.text for element in soup.find_all('strong')]\n",
    "lan = languages[1:-1]\n",
    "articles = [element.text.replace('\\xa0', '.') for element in soup.find_all('small')]\n",
    "art = articles[:-3]\n",
    "zipped = list(zip(lan, art))\n",
    "[' '.join(item) for item in zipped]"
   ]
  },
  {
   "cell_type": "markdown",
   "metadata": {
    "colab_type": "text",
    "id": "mbGJey0bVY8U"
   },
   "source": [
    "#### A list with the different kind of datasets available in data.gov.uk."
   ]
  },
  {
   "cell_type": "code",
   "execution_count": 0,
   "metadata": {
    "colab": {},
    "colab_type": "code",
    "id": "uSCDLSGsVY8V"
   },
   "outputs": [],
   "source": [
    "# This is the url you will scrape in this exercise\n",
    "url = 'https://data.gov.uk/'"
   ]
  },
  {
   "cell_type": "code",
   "execution_count": 0,
   "metadata": {
    "colab": {
     "base_uri": "https://localhost:8080/",
     "height": 212
    },
    "colab_type": "code",
    "id": "Bw3dvf6wVY8Z",
    "outputId": "490a2d31-c22f-4413-8104-cf73428246a2"
   },
   "outputs": [
    {
     "data": {
      "text/plain": [
       "['Business and economy',\n",
       " 'Crime and justice',\n",
       " 'Defence',\n",
       " 'Education',\n",
       " 'Environment',\n",
       " 'Government',\n",
       " 'Government spending',\n",
       " 'Health',\n",
       " 'Mapping',\n",
       " 'Society',\n",
       " 'Towns and cities',\n",
       " 'Transport']"
      ]
     },
     "execution_count": 30,
     "metadata": {
      "tags": []
     },
     "output_type": "execute_result"
    }
   ],
   "source": [
    "# your code here\n",
    "html = requests.get(url).content\n",
    "soup = BeautifulSoup(html, \"lxml\")\n",
    "all_a = soup.find_all('a')\n",
    "to_text = [x.text for x in all_a]\n",
    "to_text[11:-10]"
   ]
  },
  {
   "cell_type": "markdown",
   "metadata": {
    "colab_type": "text",
    "id": "lZ5FXF61VY8i"
   },
   "source": [
    "#### Display the top 10 languages by number of native speakers stored in a pandas dataframe."
   ]
  },
  {
   "cell_type": "code",
   "execution_count": 0,
   "metadata": {
    "colab": {},
    "colab_type": "code",
    "id": "AVgpWaVTVY8k"
   },
   "outputs": [],
   "source": [
    "# This is the url you will scrape in this exercise\n",
    "url = 'https://en.wikipedia.org/wiki/List_of_languages_by_number_of_native_speakers'"
   ]
  },
  {
   "cell_type": "code",
   "execution_count": 0,
   "metadata": {
    "colab": {
     "base_uri": "https://localhost:8080/",
     "height": 363
    },
    "colab_type": "code",
    "id": "vxtP7V6kVY8r",
    "outputId": "3f994187-14f8-4ce0-d001-59865d1033df"
   },
   "outputs": [
    {
     "data": {
      "text/html": [
       "<div>\n",
       "<style scoped>\n",
       "    .dataframe tbody tr th:only-of-type {\n",
       "        vertical-align: middle;\n",
       "    }\n",
       "\n",
       "    .dataframe tbody tr th {\n",
       "        vertical-align: top;\n",
       "    }\n",
       "\n",
       "    .dataframe thead th {\n",
       "        text-align: right;\n",
       "    }\n",
       "</style>\n",
       "<table border=\"1\" class=\"dataframe\">\n",
       "  <thead>\n",
       "    <tr style=\"text-align: right;\">\n",
       "      <th></th>\n",
       "      <th>Language</th>\n",
       "      <th>Native Speakers</th>\n",
       "      <th>Percentage of World Population</th>\n",
       "    </tr>\n",
       "    <tr>\n",
       "      <th>Rank</th>\n",
       "      <th></th>\n",
       "      <th></th>\n",
       "      <th></th>\n",
       "    </tr>\n",
       "  </thead>\n",
       "  <tbody>\n",
       "    <tr>\n",
       "      <th>1</th>\n",
       "      <td>Mandarin (entire branch)</td>\n",
       "      <td>935 (955)</td>\n",
       "      <td>14.1%</td>\n",
       "    </tr>\n",
       "    <tr>\n",
       "      <th>2</th>\n",
       "      <td>Spanish</td>\n",
       "      <td>390 (405)</td>\n",
       "      <td>5.85%</td>\n",
       "    </tr>\n",
       "    <tr>\n",
       "      <th>3</th>\n",
       "      <td>English</td>\n",
       "      <td>365 (360)</td>\n",
       "      <td>5.52%</td>\n",
       "    </tr>\n",
       "    <tr>\n",
       "      <th>4</th>\n",
       "      <td>Hindi[b]</td>\n",
       "      <td>295 (310)</td>\n",
       "      <td>4.46%</td>\n",
       "    </tr>\n",
       "    <tr>\n",
       "      <th>5</th>\n",
       "      <td>Arabic</td>\n",
       "      <td>280 (295)</td>\n",
       "      <td>4.23%</td>\n",
       "    </tr>\n",
       "    <tr>\n",
       "      <th>6</th>\n",
       "      <td>Portuguese</td>\n",
       "      <td>205 (215)</td>\n",
       "      <td>3.08%</td>\n",
       "    </tr>\n",
       "    <tr>\n",
       "      <th>7</th>\n",
       "      <td>Bengali</td>\n",
       "      <td>200 (205)</td>\n",
       "      <td>3.05%</td>\n",
       "    </tr>\n",
       "    <tr>\n",
       "      <th>8</th>\n",
       "      <td>Russian</td>\n",
       "      <td>160 (155)</td>\n",
       "      <td>2.42%</td>\n",
       "    </tr>\n",
       "    <tr>\n",
       "      <th>9</th>\n",
       "      <td>Japanese</td>\n",
       "      <td>125 (125)</td>\n",
       "      <td>1.92%</td>\n",
       "    </tr>\n",
       "    <tr>\n",
       "      <th>10</th>\n",
       "      <td>Punjabi</td>\n",
       "      <td>95 (100)</td>\n",
       "      <td>1.44%</td>\n",
       "    </tr>\n",
       "  </tbody>\n",
       "</table>\n",
       "</div>"
      ],
      "text/plain": [
       "                      Language Native Speakers Percentage of World Population\n",
       "Rank                                                                         \n",
       "1     Mandarin (entire branch)       935 (955)                          14.1%\n",
       "2                      Spanish       390 (405)                          5.85%\n",
       "3                      English       365 (360)                          5.52%\n",
       "4                     Hindi[b]       295 (310)                          4.46%\n",
       "5                       Arabic       280 (295)                          4.23%\n",
       "6                   Portuguese       205 (215)                          3.08%\n",
       "7                      Bengali       200 (205)                          3.05%\n",
       "8                      Russian       160 (155)                          2.42%\n",
       "9                     Japanese       125 (125)                          1.92%\n",
       "10                     Punjabi        95 (100)                          1.44%"
      ]
     },
     "execution_count": 32,
     "metadata": {
      "tags": []
     },
     "output_type": "execute_result"
    }
   ],
   "source": [
    "# your code here\n",
    "html = requests.get(url).content\n",
    "soup = BeautifulSoup(html, \"lxml\")\n",
    "rows = [tr.text for tr in soup.find_all('tr')]\n",
    "top_ten = rows[94:104]\n",
    "clean = [top.replace('\\n', '   ').strip().split('   ') for top in top_ten]\n",
    "pd.DataFrame(clean, columns=['Rank', 'Language', 'Native Speakers', 'Percentage of World Population']).set_index(['Rank'])"
   ]
  },
  {
   "cell_type": "markdown",
   "metadata": {
    "colab_type": "text",
    "id": "js4tUoyhVY8v"
   },
   "source": [
    "#### Scrape a certain number of tweets of a given Twitter account."
   ]
  },
  {
   "cell_type": "code",
   "execution_count": 0,
   "metadata": {
    "colab": {},
    "colab_type": "code",
    "id": "-q9QcCHYVY8w"
   },
   "outputs": [],
   "source": [
    "# This is the url you will scrape in this exercise \n",
    "# You will need to add the account credentials to this url\n",
    "url = 'https://twitter.com/'"
   ]
  },
  {
   "cell_type": "code",
   "execution_count": 0,
   "metadata": {
    "colab": {
     "base_uri": "https://localhost:8080/",
     "height": 342
    },
    "colab_type": "code",
    "id": "OOhtbw7KVY81",
    "outputId": "01070b8d-cfe2-469b-bb7a-7043a8561122",
    "scrolled": true
   },
   "outputs": [
    {
     "data": {
      "text/plain": [
       "['Back to your regularly scheduled programming - https://t.co/GrME9ynL1W',\n",
       " 'Nerds, Prizes and Data.. Oh My! 💥 - https://t.co/G6K9ELHEIA',\n",
       " \"It's the final countdown - https://t.co/4mkQPflYMR\",\n",
       " 'Can you feel the love tonight?  💙 - https://t.co/7ObxmAltTQ',\n",
       " 'Big DATA News - https://t.co/VtP5bCCZ01',\n",
       " 'Congrats to our.... - https://t.co/FnmsAXTrMB',\n",
       " 'IronHo Ho Ho 🎅 🎄 - https://t.co/YztdeRT61f',\n",
       " \"If you're in @madrid don't miss it! https://t.co/OtxLQAQDLN\",\n",
       " 'Not To Brag But..... - https://t.co/ttVaKamnu9',\n",
       " 'RT @MartaFonda: Hace cinco años cruzaba las puertas de @ironhack Hace cinco años empezaba el sueño. Gracias por todo lo que me habéis aport…',\n",
       " 'I Put A Spell On You... - https://t.co/nJjxP5pU4K',\n",
       " \"Invite your dad! your mom, brothers and sisters and get ready for quality Coding/Family time! If you're around Madrid next Saturday 27th of October, don't miss it! https://t.co/TLXldpU8gQ\",\n",
       " 'RT @IronhackMAD: Abogados, es hora de Digitalizaros! ⏰ Descubrir como la tecnología esta creando una disrupción en el mundo legal en este e…',\n",
       " 'RT @sakura_uxdesign: Had so much fun at my first ever Hackathon today at @ironhack. 🙌 First time working in a cross functional team with we…',\n",
       " 'Why would a #CEO learn to #code? https://t.co/QfnprtmGBy',\n",
       " 'Great event in @IronhackMAD ! First #devexperience https://t.co/DehA9kJTd1',\n",
       " \"This Is Thriller (JK, It's Ironhack) - https://t.co/dRV5VVAjWd\",\n",
       " 'RT @IronhackMAD: Tu ventaja competitiva en MARKETING puede ser la programación:  - Encuentra nuevas maneras de crecer, descubre caminos ine…',\n",
       " 'RT @IronhackMAD: ¿Te acuerdas de lo que estudiaste en la universidad? Java, C, C++, Matlab por ejemplo? Pues ahora las empresas tech trabaj…',\n",
       " 'Ironhack UXperience 3.0 This Saturday - ALMOST SOLD OUT 😱 - https://t.co/uqBbJqdukN']"
      ]
     },
     "execution_count": 38,
     "metadata": {
      "tags": []
     },
     "output_type": "execute_result"
    }
   ],
   "source": [
    "# your code here\n",
    "def get_tweets(user):\n",
    "    try:\n",
    "        tweets = api.user_timeline(screen_name=user, tweet_mode=\"extended\")\n",
    "        return [tweet.full_text.replace('\\n', ' ').replace('\\xa0', ' ') for tweet in tweets]\n",
    "    except:\n",
    "        return \"User not found\"\n",
    "\n",
    "get_tweets('@ironhack')"
   ]
  },
  {
   "cell_type": "markdown",
   "metadata": {
    "colab_type": "text",
    "id": "-OFUGJDvVY88"
   },
   "source": [
    "#### Display IMDB's top 250 data (movie name, initial release, director name and stars) as a pandas dataframe."
   ]
  },
  {
   "cell_type": "code",
   "execution_count": 2,
   "metadata": {
    "colab": {},
    "colab_type": "code",
    "id": "73vn2ZjtVY89"
   },
   "outputs": [],
   "source": [
    "# This is the url you will scrape in this exercise \n",
    "url = 'https://www.imdb.com/chart/top'"
   ]
  },
  {
   "cell_type": "code",
   "execution_count": 3,
   "metadata": {
    "colab": {
     "base_uri": "https://localhost:8080/",
     "height": 420
    },
    "colab_type": "code",
    "id": "vBKzCja7VY9F",
    "outputId": "c4f3bd65-5f65-45e3-c964-6761a0f544da"
   },
   "outputs": [
    {
     "data": {
      "text/html": [
       "<div>\n",
       "<style scoped>\n",
       "    .dataframe tbody tr th:only-of-type {\n",
       "        vertical-align: middle;\n",
       "    }\n",
       "\n",
       "    .dataframe tbody tr th {\n",
       "        vertical-align: top;\n",
       "    }\n",
       "\n",
       "    .dataframe thead th {\n",
       "        text-align: right;\n",
       "    }\n",
       "</style>\n",
       "<table border=\"1\" class=\"dataframe\">\n",
       "  <thead>\n",
       "    <tr style=\"text-align: right;\">\n",
       "      <th></th>\n",
       "      <th>Title</th>\n",
       "      <th>Rating</th>\n",
       "      <th>Directors</th>\n",
       "    </tr>\n",
       "    <tr>\n",
       "      <th>Rank</th>\n",
       "      <th></th>\n",
       "      <th></th>\n",
       "      <th></th>\n",
       "    </tr>\n",
       "  </thead>\n",
       "  <tbody>\n",
       "    <tr>\n",
       "      <th>1.</th>\n",
       "      <td>Os Condenados de Shawshank (1994)</td>\n",
       "      <td>9.2</td>\n",
       "      <td>Frank Darabont</td>\n",
       "    </tr>\n",
       "    <tr>\n",
       "      <th>2.</th>\n",
       "      <td>O Padrinho (1972)</td>\n",
       "      <td>9.1</td>\n",
       "      <td>Francis Ford Coppola</td>\n",
       "    </tr>\n",
       "    <tr>\n",
       "      <th>3.</th>\n",
       "      <td>O Padrinho: Parte II (1974)</td>\n",
       "      <td>9.0</td>\n",
       "      <td>Francis Ford Coppola</td>\n",
       "    </tr>\n",
       "    <tr>\n",
       "      <th>4.</th>\n",
       "      <td>O Cavaleiro das Trevas (2008)</td>\n",
       "      <td>9.0</td>\n",
       "      <td>Christopher Nolan</td>\n",
       "    </tr>\n",
       "    <tr>\n",
       "      <th>5.</th>\n",
       "      <td>Doze Homens em Fúria (1957)</td>\n",
       "      <td>8.9</td>\n",
       "      <td>Sidney Lumet</td>\n",
       "    </tr>\n",
       "    <tr>\n",
       "      <th>...</th>\n",
       "      <td>...</td>\n",
       "      <td>...</td>\n",
       "      <td>...</td>\n",
       "    </tr>\n",
       "    <tr>\n",
       "      <th>246.</th>\n",
       "      <td>Infiltrados (2002)</td>\n",
       "      <td>8.0</td>\n",
       "      <td>Andrew Lau</td>\n",
       "    </tr>\n",
       "    <tr>\n",
       "      <th>247.</th>\n",
       "      <td>A Batalha de Argel (1966)</td>\n",
       "      <td>8.0</td>\n",
       "      <td>Gillo Pontecorvo</td>\n",
       "    </tr>\n",
       "    <tr>\n",
       "      <th>248.</th>\n",
       "      <td>O Castelo no Céu (1986)</td>\n",
       "      <td>8.0</td>\n",
       "      <td>Hayao Miyazaki</td>\n",
       "    </tr>\n",
       "    <tr>\n",
       "      <th>249.</th>\n",
       "      <td>A Lenda de 1900 (1998)</td>\n",
       "      <td>8.0</td>\n",
       "      <td>Giuseppe Tornatore</td>\n",
       "    </tr>\n",
       "    <tr>\n",
       "      <th>250.</th>\n",
       "      <td>Underground: Era Uma Vez Um País (1995)</td>\n",
       "      <td>8.0</td>\n",
       "      <td>Emir Kusturica</td>\n",
       "    </tr>\n",
       "  </tbody>\n",
       "</table>\n",
       "<p>250 rows × 3 columns</p>\n",
       "</div>"
      ],
      "text/plain": [
       "                                         Title Rating             Directors\n",
       "Rank                                                                       \n",
       "1.           Os Condenados de Shawshank (1994)    9.2        Frank Darabont\n",
       "2.                           O Padrinho (1972)    9.1  Francis Ford Coppola\n",
       "3.                 O Padrinho: Parte II (1974)    9.0  Francis Ford Coppola\n",
       "4.               O Cavaleiro das Trevas (2008)    9.0     Christopher Nolan\n",
       "5.                 Doze Homens em Fúria (1957)    8.9          Sidney Lumet\n",
       "...                                        ...    ...                   ...\n",
       "246.                        Infiltrados (2002)    8.0            Andrew Lau\n",
       "247.                 A Batalha de Argel (1966)    8.0      Gillo Pontecorvo\n",
       "248.                   O Castelo no Céu (1986)    8.0        Hayao Miyazaki\n",
       "249.                    A Lenda de 1900 (1998)    8.0    Giuseppe Tornatore\n",
       "250.   Underground: Era Uma Vez Um País (1995)    8.0        Emir Kusturica\n",
       "\n",
       "[250 rows x 3 columns]"
      ]
     },
     "execution_count": 3,
     "metadata": {},
     "output_type": "execute_result"
    }
   ],
   "source": [
    "# your code here\n",
    "html = requests.get(url).content\n",
    "soup = BeautifulSoup(html, \"lxml\")\n",
    "all_items = [element.text.replace('\\n', ' ').replace('\\xa0', '').strip() for element in soup.find_all('tr')]\n",
    "splitting = [item.split('  ') for item in all_items[1:-2]]\n",
    "df = pd.DataFrame(splitting)\n",
    "clean = df[[0,3,4]].copy()\n",
    "new_df = clean.rename(columns={0: 'Rank', 3:'Title', 4:'Rating'}).set_index('Rank')\n",
    "rem_tags = [element.get('title') for element in soup.find_all('a')]\n",
    "rem_nones = [name for name in rem_tags if name != None]\n",
    "dir_act = rem_nones[9:-8]\n",
    "directors = [names.split(',')[0] for names in dir_act]\n",
    "directors_clean = [name[:-7] for name in directors]\n",
    "new_df['Directors'] = directors_clean\n",
    "new_df"
   ]
  },
  {
   "cell_type": "markdown",
   "metadata": {
    "colab_type": "text",
    "id": "Fhcoj1zTVY9O"
   },
   "source": [
    "#### Display the movie name, year and a brief summary of the top 10 random movies (IMDB) as a pandas dataframe."
   ]
  },
  {
   "cell_type": "code",
   "execution_count": 5,
   "metadata": {
    "colab": {},
    "colab_type": "code",
    "id": "i3OQjfprVY9V"
   },
   "outputs": [
    {
     "name": "stdout",
     "output_type": "stream",
     "text": [
      "processing...\n",
      "processing...\n",
      "processing...\n",
      "processing...\n",
      "processing...\n",
      "processing...\n",
      "processing...\n",
      "processing...\n",
      "processing...\n",
      "processing...\n",
      "processing...\n",
      "processing...\n",
      "processing...\n",
      "processing...\n",
      "processing...\n",
      "processing...\n",
      "processing...\n",
      "processing...\n",
      "processing...\n",
      "processing...\n",
      "processing...\n",
      "processing...\n",
      "processing...\n",
      "processing...\n",
      "processing...\n",
      "processing...\n",
      "processing...\n",
      "processing...\n",
      "processing...\n",
      "processing...\n",
      "processing...\n",
      "processing...\n",
      "processing...\n",
      "processing...\n",
      "processing...\n",
      "processing...\n",
      "processing...\n",
      "processing...\n",
      "processing...\n",
      "processing...\n",
      "processing...\n",
      "processing...\n",
      "processing...\n",
      "processing...\n",
      "processing...\n",
      "processing...\n",
      "processing...\n",
      "processing...\n",
      "processing...\n",
      "processing...\n",
      "processing...\n",
      "processing...\n",
      "processing...\n",
      "processing...\n",
      "processing...\n",
      "processing...\n",
      "processing...\n",
      "processing...\n",
      "processing...\n",
      "processing...\n",
      "processing...\n",
      "processing...\n",
      "processing...\n",
      "processing...\n",
      "processing...\n",
      "processing...\n",
      "processing...\n",
      "processing...\n",
      "processing...\n",
      "processing...\n",
      "processing...\n",
      "processing...\n",
      "processing...\n",
      "processing...\n",
      "processing...\n",
      "processing...\n",
      "processing...\n",
      "processing...\n",
      "processing...\n",
      "processing...\n",
      "processing...\n",
      "processing...\n",
      "processing...\n",
      "processing...\n",
      "processing...\n",
      "processing...\n",
      "processing...\n",
      "processing...\n",
      "processing...\n",
      "processing...\n",
      "processing...\n",
      "processing...\n",
      "processing...\n",
      "processing...\n",
      "processing...\n",
      "processing...\n",
      "processing...\n",
      "processing...\n",
      "processing...\n",
      "processing...\n",
      "processing...\n",
      "processing...\n",
      "processing...\n",
      "processing...\n",
      "processing...\n",
      "processing...\n",
      "processing...\n",
      "processing...\n",
      "processing...\n",
      "processing...\n",
      "processing...\n",
      "processing...\n",
      "processing...\n",
      "processing...\n",
      "processing...\n",
      "processing...\n",
      "processing...\n",
      "processing...\n",
      "processing...\n",
      "processing...\n",
      "processing...\n",
      "processing...\n",
      "processing...\n",
      "processing...\n",
      "processing...\n",
      "processing...\n",
      "processing...\n",
      "processing...\n",
      "processing...\n",
      "processing...\n",
      "processing...\n",
      "processing...\n",
      "processing...\n",
      "processing...\n",
      "processing...\n",
      "processing...\n",
      "processing...\n",
      "processing...\n",
      "processing...\n",
      "processing...\n",
      "processing...\n",
      "processing...\n",
      "processing...\n",
      "processing...\n",
      "processing...\n",
      "processing...\n",
      "processing...\n",
      "processing...\n",
      "processing...\n",
      "processing...\n",
      "processing...\n",
      "processing...\n",
      "processing...\n",
      "processing...\n",
      "processing...\n",
      "processing...\n",
      "processing...\n",
      "processing...\n",
      "processing...\n",
      "processing...\n",
      "processing...\n",
      "processing...\n",
      "processing...\n",
      "processing...\n",
      "processing...\n",
      "processing...\n",
      "processing...\n",
      "processing...\n",
      "processing...\n",
      "processing...\n",
      "processing...\n",
      "processing...\n",
      "processing...\n",
      "processing...\n",
      "processing...\n",
      "processing...\n",
      "processing...\n",
      "processing...\n",
      "processing...\n",
      "processing...\n",
      "processing...\n",
      "processing...\n",
      "processing...\n",
      "processing...\n",
      "processing...\n",
      "processing...\n",
      "processing...\n",
      "processing...\n",
      "processing...\n",
      "processing...\n",
      "processing...\n",
      "processing...\n",
      "processing...\n",
      "processing...\n",
      "processing...\n",
      "processing...\n",
      "processing...\n",
      "processing...\n",
      "processing...\n",
      "processing...\n",
      "processing...\n",
      "processing...\n",
      "processing...\n",
      "processing...\n",
      "processing...\n",
      "processing...\n",
      "processing...\n",
      "processing...\n",
      "processing...\n",
      "processing...\n",
      "processing...\n",
      "processing...\n",
      "processing...\n",
      "processing...\n",
      "processing...\n",
      "processing...\n",
      "processing...\n",
      "processing...\n",
      "processing...\n",
      "processing...\n",
      "processing...\n",
      "processing...\n",
      "processing...\n",
      "processing...\n",
      "processing...\n",
      "processing...\n",
      "processing...\n",
      "processing...\n",
      "processing...\n",
      "processing...\n",
      "processing...\n",
      "processing...\n",
      "processing...\n",
      "processing...\n",
      "processing...\n",
      "processing...\n",
      "processing...\n",
      "processing...\n",
      "processing...\n",
      "processing...\n",
      "processing...\n",
      "processing...\n",
      "processing...\n",
      "processing...\n",
      "processing...\n",
      "processing...\n",
      "processing...\n",
      "processing...\n",
      "processing...\n",
      "processing...\n"
     ]
    }
   ],
   "source": [
    "# your code here\n",
    "df_summ = new_df[['Title']].copy()\n",
    "link_tags = [element.get('href') for element in soup.find_all('a')]\n",
    "rem_none_links = [name for name in link_tags if name != None]\n",
    "title_links = [element for element in rem_none_links if element.startswith('/title/tt')]\n",
    "rem_duplicates = [title[1] for title in enumerate(title_links[2:]) if title[0]%2 == 0]\n",
    "def summary(url):\n",
    "    html = requests.get('https://www.imdb.com' + url).content\n",
    "    soup = BeautifulSoup(html, \"lxml\")\n",
    "    print('processing...')\n",
    "    return [element.text.replace(\n",
    "        '\\n', ' ') for element in soup.find_all('div', attrs = {'class':'summary_text'})]\n",
    "\n",
    "summary = list(map(lambda url: summary(url), rem_duplicates))\n"
   ]
  },
  {
   "cell_type": "code",
   "execution_count": 6,
   "metadata": {
    "colab": {
     "base_uri": "https://localhost:8080/",
     "height": 312
    },
    "colab_type": "code",
    "id": "Sgubkm9Aw9BE",
    "outputId": "ca436bf7-597a-49c9-ca21-372be41ff213"
   },
   "outputs": [
    {
     "data": {
      "text/html": [
       "<div>\n",
       "<style scoped>\n",
       "    .dataframe tbody tr th:only-of-type {\n",
       "        vertical-align: middle;\n",
       "    }\n",
       "\n",
       "    .dataframe tbody tr th {\n",
       "        vertical-align: top;\n",
       "    }\n",
       "\n",
       "    .dataframe thead th {\n",
       "        text-align: right;\n",
       "    }\n",
       "</style>\n",
       "<table border=\"1\" class=\"dataframe\">\n",
       "  <thead>\n",
       "    <tr style=\"text-align: right;\">\n",
       "      <th></th>\n",
       "      <th>Title</th>\n",
       "      <th>Summary</th>\n",
       "    </tr>\n",
       "    <tr>\n",
       "      <th>Rank</th>\n",
       "      <th></th>\n",
       "      <th></th>\n",
       "    </tr>\n",
       "  </thead>\n",
       "  <tbody>\n",
       "    <tr>\n",
       "      <th>1.</th>\n",
       "      <td>Os Condenados de Shawshank (1994)</td>\n",
       "      <td>[                     Two imprisoned men bond ...</td>\n",
       "    </tr>\n",
       "    <tr>\n",
       "      <th>2.</th>\n",
       "      <td>O Padrinho (1972)</td>\n",
       "      <td>[                     The aging patriarch of a...</td>\n",
       "    </tr>\n",
       "    <tr>\n",
       "      <th>3.</th>\n",
       "      <td>O Padrinho: Parte II (1974)</td>\n",
       "      <td>[                     The early life and caree...</td>\n",
       "    </tr>\n",
       "    <tr>\n",
       "      <th>4.</th>\n",
       "      <td>O Cavaleiro das Trevas (2008)</td>\n",
       "      <td>[                     When the menace known as...</td>\n",
       "    </tr>\n",
       "    <tr>\n",
       "      <th>5.</th>\n",
       "      <td>Doze Homens em Fúria (1957)</td>\n",
       "      <td>[                     A jury holdout attempts ...</td>\n",
       "    </tr>\n",
       "    <tr>\n",
       "      <th>...</th>\n",
       "      <td>...</td>\n",
       "      <td>...</td>\n",
       "    </tr>\n",
       "    <tr>\n",
       "      <th>246.</th>\n",
       "      <td>Infiltrados (2002)</td>\n",
       "      <td>[                     A story between a mole i...</td>\n",
       "    </tr>\n",
       "    <tr>\n",
       "      <th>247.</th>\n",
       "      <td>A Batalha de Argel (1966)</td>\n",
       "      <td>[                     In the 1950s, fear and v...</td>\n",
       "    </tr>\n",
       "    <tr>\n",
       "      <th>248.</th>\n",
       "      <td>O Castelo no Céu (1986)</td>\n",
       "      <td>[                     A young boy and a girl w...</td>\n",
       "    </tr>\n",
       "    <tr>\n",
       "      <th>249.</th>\n",
       "      <td>A Lenda de 1900 (1998)</td>\n",
       "      <td>[                     A baby boy, discovered i...</td>\n",
       "    </tr>\n",
       "    <tr>\n",
       "      <th>250.</th>\n",
       "      <td>Underground: Era Uma Vez Um País (1995)</td>\n",
       "      <td>[                     A group of serbian socia...</td>\n",
       "    </tr>\n",
       "  </tbody>\n",
       "</table>\n",
       "<p>250 rows × 2 columns</p>\n",
       "</div>"
      ],
      "text/plain": [
       "                                         Title  \\\n",
       "Rank                                             \n",
       "1.           Os Condenados de Shawshank (1994)   \n",
       "2.                           O Padrinho (1972)   \n",
       "3.                 O Padrinho: Parte II (1974)   \n",
       "4.               O Cavaleiro das Trevas (2008)   \n",
       "5.                 Doze Homens em Fúria (1957)   \n",
       "...                                        ...   \n",
       "246.                        Infiltrados (2002)   \n",
       "247.                 A Batalha de Argel (1966)   \n",
       "248.                   O Castelo no Céu (1986)   \n",
       "249.                    A Lenda de 1900 (1998)   \n",
       "250.   Underground: Era Uma Vez Um País (1995)   \n",
       "\n",
       "                                                Summary  \n",
       "Rank                                                     \n",
       "1.    [                     Two imprisoned men bond ...  \n",
       "2.    [                     The aging patriarch of a...  \n",
       "3.    [                     The early life and caree...  \n",
       "4.    [                     When the menace known as...  \n",
       "5.    [                     A jury holdout attempts ...  \n",
       "...                                                 ...  \n",
       "246.  [                     A story between a mole i...  \n",
       "247.  [                     In the 1950s, fear and v...  \n",
       "248.  [                     A young boy and a girl w...  \n",
       "249.  [                     A baby boy, discovered i...  \n",
       "250.  [                     A group of serbian socia...  \n",
       "\n",
       "[250 rows x 2 columns]"
      ]
     },
     "execution_count": 6,
     "metadata": {},
     "output_type": "execute_result"
    }
   ],
   "source": [
    "df_summ['Summary'] = summary\n",
    "df_summ"
   ]
  },
  {
   "cell_type": "markdown",
   "metadata": {
    "colab_type": "text",
    "id": "G07PD62UVY9Z"
   },
   "source": [
    "## Bonus"
   ]
  },
  {
   "cell_type": "markdown",
   "metadata": {
    "colab_type": "text",
    "id": "HACxeHIAVY9a"
   },
   "source": [
    "#### Find the live weather report (temperature, wind speed, description and weather) of a given city."
   ]
  },
  {
   "cell_type": "code",
   "execution_count": 0,
   "metadata": {
    "colab": {
     "base_uri": "https://localhost:8080/",
     "height": 50
    },
    "colab_type": "code",
    "id": "8McPTU6eVY9b",
    "outputId": "a8df2bf0-0345-494e-e5a3-933e277dc16f"
   },
   "outputs": [
    {
     "name": "stdout",
     "output_type": "stream",
     "text": [
      "Enter the city: Lisbon\n",
      "Temperature = 7.7. Wind Speed = 16.74. Description = scattered clouds. Weather = Clouds.\n"
     ]
    }
   ],
   "source": [
    "#https://openweathermap.org/current\n",
    "\n",
    "import requests\n",
    "import json\n",
    "\n",
    "city = input('Enter the city: ')\n",
    "\n",
    "def weather(city):\n",
    "  url = 'http://api.openweathermap.org/data/2.5/weather?'+'q='+city+'&APPID=b35975e18dc93725acb092f7272cc6b8&units=metric'\n",
    "  response = requests.get(url).json()\n",
    "  weather = response['weather'][0]['main']\n",
    "  desc = response['weather'][0]['description']\n",
    "  wind = response['main']['temp']\n",
    "  temp = response['wind']['speed']\n",
    "  return print('Temperature = {}. Wind Speed = {}. Description = {}. Weather = {}.'.format(temp,wind, desc, weather))\n",
    "\n",
    "\n",
    "weather(city)\n"
   ]
  },
  {
   "cell_type": "markdown",
   "metadata": {
    "colab_type": "text",
    "id": "t3YZvFgUVY9j"
   },
   "source": [
    "#### Find the book name, price and stock availability as a pandas dataframe."
   ]
  },
  {
   "cell_type": "code",
   "execution_count": 0,
   "metadata": {
    "colab": {},
    "colab_type": "code",
    "id": "PnnaUKplVY9k"
   },
   "outputs": [],
   "source": [
    "# This is the url you will scrape in this exercise. \n",
    "# It is a fictional bookstore created to be scraped. \n",
    "url = 'http://books.toscrape.com/'"
   ]
  },
  {
   "cell_type": "code",
   "execution_count": 0,
   "metadata": {
    "colab": {
     "base_uri": "https://localhost:8080/",
     "height": 391
    },
    "colab_type": "code",
    "id": "OQ9zBXDzVY9r",
    "outputId": "2bd61965-97dc-4880-91a6-4744e94d02cc"
   },
   "outputs": [
    {
     "data": {
      "text/html": [
       "<div>\n",
       "<style scoped>\n",
       "    .dataframe tbody tr th:only-of-type {\n",
       "        vertical-align: middle;\n",
       "    }\n",
       "\n",
       "    .dataframe tbody tr th {\n",
       "        vertical-align: top;\n",
       "    }\n",
       "\n",
       "    .dataframe thead th {\n",
       "        text-align: right;\n",
       "    }\n",
       "</style>\n",
       "<table border=\"1\" class=\"dataframe\">\n",
       "  <thead>\n",
       "    <tr style=\"text-align: right;\">\n",
       "      <th></th>\n",
       "      <th>Title</th>\n",
       "      <th>Price</th>\n",
       "      <th>Available</th>\n",
       "    </tr>\n",
       "  </thead>\n",
       "  <tbody>\n",
       "    <tr>\n",
       "      <th>0</th>\n",
       "      <td>A Light in the Attic</td>\n",
       "      <td>£51.77</td>\n",
       "      <td>In stock</td>\n",
       "    </tr>\n",
       "    <tr>\n",
       "      <th>1</th>\n",
       "      <td>Tipping the Velvet</td>\n",
       "      <td>£53.74</td>\n",
       "      <td>In stock</td>\n",
       "    </tr>\n",
       "    <tr>\n",
       "      <th>2</th>\n",
       "      <td>Soumission</td>\n",
       "      <td>£50.10</td>\n",
       "      <td>In stock</td>\n",
       "    </tr>\n",
       "    <tr>\n",
       "      <th>3</th>\n",
       "      <td>Sharp Objects</td>\n",
       "      <td>£47.82</td>\n",
       "      <td>In stock</td>\n",
       "    </tr>\n",
       "    <tr>\n",
       "      <th>4</th>\n",
       "      <td>Sapiens: A Brief History of Humankind</td>\n",
       "      <td>£54.23</td>\n",
       "      <td>In stock</td>\n",
       "    </tr>\n",
       "    <tr>\n",
       "      <th>...</th>\n",
       "      <td>...</td>\n",
       "      <td>...</td>\n",
       "      <td>...</td>\n",
       "    </tr>\n",
       "    <tr>\n",
       "      <th>995</th>\n",
       "      <td>Alice in Wonderland (Alice's Adventures in Won...</td>\n",
       "      <td>£55.53</td>\n",
       "      <td>In stock</td>\n",
       "    </tr>\n",
       "    <tr>\n",
       "      <th>996</th>\n",
       "      <td>Ajin: Demi-Human, Volume 1 (Ajin: Demi-Human #1)</td>\n",
       "      <td>£57.06</td>\n",
       "      <td>In stock</td>\n",
       "    </tr>\n",
       "    <tr>\n",
       "      <th>997</th>\n",
       "      <td>A Spy's Devotion (The Regency Spies of London #1)</td>\n",
       "      <td>£16.97</td>\n",
       "      <td>In stock</td>\n",
       "    </tr>\n",
       "    <tr>\n",
       "      <th>998</th>\n",
       "      <td>1st to Die (Women's Murder Club #1)</td>\n",
       "      <td>£53.98</td>\n",
       "      <td>In stock</td>\n",
       "    </tr>\n",
       "    <tr>\n",
       "      <th>999</th>\n",
       "      <td>1,000 Places to See Before You Die</td>\n",
       "      <td>£26.08</td>\n",
       "      <td>In stock</td>\n",
       "    </tr>\n",
       "  </tbody>\n",
       "</table>\n",
       "<p>1000 rows × 3 columns</p>\n",
       "</div>"
      ],
      "text/plain": [
       "                                                 Title   Price Available\n",
       "0                                 A Light in the Attic  £51.77  In stock\n",
       "1                                   Tipping the Velvet  £53.74  In stock\n",
       "2                                           Soumission  £50.10  In stock\n",
       "3                                        Sharp Objects  £47.82  In stock\n",
       "4                Sapiens: A Brief History of Humankind  £54.23  In stock\n",
       "..                                                 ...     ...       ...\n",
       "995  Alice in Wonderland (Alice's Adventures in Won...  £55.53  In stock\n",
       "996   Ajin: Demi-Human, Volume 1 (Ajin: Demi-Human #1)  £57.06  In stock\n",
       "997  A Spy's Devotion (The Regency Spies of London #1)  £16.97  In stock\n",
       "998                1st to Die (Women's Murder Club #1)  £53.98  In stock\n",
       "999                 1,000 Places to See Before You Die  £26.08  In stock\n",
       "\n",
       "[1000 rows x 3 columns]"
      ]
     },
     "execution_count": 167,
     "metadata": {
      "tags": []
     },
     "output_type": "execute_result"
    }
   ],
   "source": [
    "# your code here\n",
    "\n",
    "urls = list(map(lambda pag: 'http://books.toscrape.com/catalogue/page-' + pag + '.html', [str(page) for page in list(range(1,51))]))\n",
    "\n",
    "def books(urls):\n",
    "  titles = []\n",
    "  prices = []\n",
    "  stocks = []\n",
    "  for url in urls:\n",
    "    html = requests.get(url).content\n",
    "    soup = BeautifulSoup(html, \"lxml\")\n",
    "   \n",
    "   \n",
    "    price = [p.text for p in soup.find_all('p', attrs = {'class': 'price_color'})]\n",
    "    stock = [s.text.replace('\\n', '').strip() for s in soup.find_all('p', attrs = {'class': 'instock availability'})]\n",
    "    titles += title\n",
    "    prices += price\n",
    "    stocks += stock\n",
    "  zipped = list(zip(titles, prices, stocks))\n",
    "  df = pd.DataFrame(zipped)\n",
    "  df = df.rename(columns = {0: 'Title', 1: 'Price', 2: 'Available'})\n",
    "  return df\n",
    "\n",
    "books(urls)"
   ]
  },
  {
   "cell_type": "markdown",
   "metadata": {
    "colab_type": "text",
    "id": "_jfxWppsVY9v"
   },
   "source": [
    "####  Display the 20 latest earthquakes info (date, time, latitude, longitude and region name) by the EMSC as a pandas dataframe."
   ]
  },
  {
   "cell_type": "code",
   "execution_count": 0,
   "metadata": {
    "colab": {},
    "colab_type": "code",
    "id": "vbuSkzEIVY9x"
   },
   "outputs": [],
   "source": [
    "# This is the url you will scrape in this exercise\n",
    "url = 'https://www.emsc-csem.org/Earthquake/'"
   ]
  },
  {
   "cell_type": "code",
   "execution_count": 8,
   "metadata": {
    "colab": {
     "base_uri": "https://localhost:8080/",
     "height": 622
    },
    "colab_type": "code",
    "id": "8759Msm0VY95",
    "outputId": "05718b9b-141f-4897-e4ac-c9c4b02eead2",
    "scrolled": true
   },
   "outputs": [
    {
     "data": {
      "text/plain": [
       "['set_server_date(2020,4,8,19,44,50)  Current time: 2020-04-08 19:44:50 UTC          Member access    Name        Pwd',\n",
       " 'Member access',\n",
       " '',\n",
       " 'Name',\n",
       " '',\n",
       " 'Pwd',\n",
       " '',\n",
       " '',\n",
       " '- Sorting by column is performed on the data of the current page.Glossary',\n",
       " '',\n",
       " 'CitizenResponseDate & Time UTCLatitude degreesLongitude degreesDepth kmMag  [+]Region name  [+]Last update [-]',\n",
       " '',\n",
       " '',\n",
       " '12345678910\\x9b»',\n",
       " '2020-04-08      19:20:31.524min ago19.34  N    155.12  W    0Ml2.0  ISLAND OF HAWAII, HAWAII2020-04-08 19:26',\n",
       " 'F  2020-04-08      19:12:34.832min ago18.07  N    66.78  W    5Md3.3  PUERTO RICO2020-04-08 19:34',\n",
       " '2020-04-08      18:43:15.21hr 01min ago47.51  N    121.84  W    10Md2.5  WASHINGTON2020-04-08 18:45',\n",
       " '2020-04-08      18:27:40.51hr 17min ago37.46  N    36.01  E    20ML3.4  CENTRAL TURKEY2020-04-08 18:34',\n",
       " '2020-04-08      18:14:22.01hr 30min ago32.83  S    71.47  W    43ML3.2  VALPARAISO, CHILE2020-04-08 18:28',\n",
       " '2020-04-08      18:01:46.31hr 43min ago32.57  N    115.67  W    10Ml2.1  BAJA CALIFORNIA, MEXICO2020-04-08 18:05',\n",
       " '2020-04-08      17:59:27.01hr 45min ago38.63  N    29.08  W    6ML3.0  AZORES ISLANDS, PORTUGAL2020-04-08 18:06',\n",
       " '2020-04-08      17:53:00.01hr 51min ago7.35  S    106.20  E    49 M3.7  JAVA, INDONESIA2020-04-08 18:07',\n",
       " '2020-04-08      17:48:45.01hr 56min ago18.69  N    71.49  W    104 M3.1  DOMINICAN REPUBLIC2020-04-08 19:30',\n",
       " '2020-04-08      17:23:27.02hr 21min ago15.99  N    96.61  W    41 M4.1  OAXACA, MEXICO2020-04-08 17:40',\n",
       " '2020-04-08      17:12:57.02hr 31min ago2.52  S    121.13  E    23 M3.0  SULAWESI, INDONESIA2020-04-08 17:25',\n",
       " '2020-04-08      17:09:13.02hr 35min ago32.06  S    71.77  W    24ML3.0  OFFSHORE COQUIMBO, CHILE2020-04-08 17:24',\n",
       " 'F  2020-04-08      17:00:12.12hr 44min ago17.98  N    66.78  W    11Md2.8  PUERTO RICO REGION2020-04-08 17:38',\n",
       " '2020-04-08      16:51:51.02hr 52min ago1.71  S    120.14  E    10 M3.7  SULAWESI, INDONESIA2020-04-08 17:00',\n",
       " '2020-04-08      16:33:41.03hr 11min ago1.53  S    120.18  E    11 M2.6  SULAWESI, INDONESIA2020-04-08 16:45',\n",
       " '2020-04-08      16:25:39.03hr 19min ago27.30  N    91.70  E    32 M3.7  BHUTAN2020-04-08 16:55',\n",
       " '2020-04-08      16:22:24.03hr 22min ago18.88  N    70.37  W    8 M3.2  DOMINICAN REPUBLIC2020-04-08 17:21',\n",
       " '2020-04-08      16:20:20.73hr 24min ago38.45  N    39.26  E    7ML2.3  EASTERN TURKEY2020-04-08 17:37',\n",
       " '2020-04-08      16:12:14.03hr 32min ago42.91  N    11.88  E    11ML2.2  CENTRAL ITALY2020-04-08 16:32',\n",
       " '2020-04-08      16:04:10.03hr 40min ago18.18  N    70.08  W    12 M3.3  DOMINICAN REPUBLIC REGION2020-04-08 16:36',\n",
       " '2020-04-08      15:50:12.63hr 54min ago39.06  N    17.13  E    8ML2.1  SOUTHERN ITALY2020-04-08 16:11',\n",
       " '2020-04-08      15:48:13.83hr 56min ago37.48  N    35.99  E    7ML2.0  CENTRAL TURKEY2020-04-08 16:29',\n",
       " '2020-04-08      15:46:43.53hr 58min ago37.47  N    36.01  E    20ML3.0  CENTRAL TURKEY2020-04-08 16:05',\n",
       " '2020-04-08      15:35:52.94hr 08min ago44.36  N    115.20  W    18Ml3.0  SOUTHERN IDAHO2020-04-08 16:34',\n",
       " '2020-04-08      15:29:30.04hr 15min ago40.40  N    142.20  E    50 M3.6  NEAR EAST COAST OF HONSHU, JAPAN2020-04-08 15:35',\n",
       " '2020-04-08      15:16:33.04hr 28min ago16.85  N    100.25  W    10 M4.0  OFFSHORE GUERRERO, MEXICO2020-04-08 15:41',\n",
       " '1F  2020-04-08      15:10:47.34hr 34min ago46.22  N    12.54  E    5ML2.9  NORTHERN ITALY2020-04-08 16:05',\n",
       " '2020-04-08      14:57:27.04hr 47min ago2.45  S    139.25  E    60 M4.6  NEAR N COAST OF PAPUA, INDONESIA2020-04-08 15:10',\n",
       " '1F  2020-04-08      14:32:30.05hr 12min ago10.54  N    83.31  W    16 M4.8  COSTA RICA2020-04-08 14:43',\n",
       " '2020-04-08      14:17:30.65hr 27min ago44.38  N    115.20  W    10Ml3.2  SOUTHERN IDAHO2020-04-08 14:35',\n",
       " '2020-04-08      14:17:23.45hr 27min ago42.90  N    13.15  E    9ML2.4  CENTRAL ITALY2020-04-08 14:24',\n",
       " '2020-04-08      14:15:23.95hr 29min ago44.40  N    115.13  W    18Ml2.6  SOUTHERN IDAHO2020-04-08 14:44',\n",
       " '2020-04-08      13:56:35.05hr 48min ago4.03  S    133.83  E    10 M3.7  NEAR S COAST OF PAPUA, INDONESIA2020-04-08 14:07',\n",
       " '2020-04-08      13:45:44.35hr 59min ago17.96  N    66.83  W    13Md2.6  PUERTO RICO2020-04-08 14:15',\n",
       " '2020-04-08      13:33:14.66hr 11min ago19.22  N    155.42  W    31Ml2.3  ISLAND OF HAWAII, HAWAII2020-04-08 13:38',\n",
       " '2020-04-08      13:25:45.06hr 19min ago18.70  N    71.68  W    37 M3.3  DOMINICAN REPUBLIC2020-04-08 15:00',\n",
       " '2020-04-08      13:20:21.26hr 24min ago18.02  N    66.77  W    14Md3.0  PUERTO RICO2020-04-08 13:45',\n",
       " '2020-04-08      13:13:55.86hr 30min ago44.25  N    115.13  W    12Ml2.4  SOUTHERN IDAHO2020-04-08 15:19',\n",
       " '2020-04-08      13:04:07.56hr 40min ago46.72  N    7.70  E    13ML1.8  SWITZERLAND2020-04-08 13:11',\n",
       " '2020-04-08      12:38:13.97hr 06min ago19.35  N    155.11  W    4Ml2.1  ISLAND OF HAWAII, HAWAII2020-04-08 12:43',\n",
       " '2020-04-08      12:32:30.07hr 12min ago37.60  N    140.60  E    100 M3.9  EASTERN HONSHU, JAPAN2020-04-08 12:40',\n",
       " '2020-04-08      12:26:37.07hr 18min ago2.09  S    140.67  E    10 M3.2  NEAR N COAST OF PAPUA, INDONESIA2020-04-08 12:45',\n",
       " '2020-04-08      12:23:29.27hr 21min ago19.25  N    155.39  W    35ML2.7  ISLAND OF HAWAII, HAWAII2020-04-08 12:56',\n",
       " '2020-04-08      12:14:28.27hr 30min ago17.87  N    66.89  W    10Md2.7  PUERTO RICO REGION2020-04-08 12:32',\n",
       " '2020-04-08      12:08:25.07hr 36min ago18.47  N    68.25  W    82 M3.4  MONA PASSAGE, DOMINICAN REPUBLIC2020-04-08 14:55',\n",
       " '2020-04-08      11:50:09.07hr 54min ago1.58  N    127.28  E    122 M4.5  HALMAHERA, INDONESIA2020-04-08 12:00',\n",
       " '2020-04-08      11:50:03.77hr 54min ago17.98  N    66.83  W    12Md2.9  PUERTO RICO2020-04-08 12:29',\n",
       " '2020-04-08      11:44:46.88hr 00min ago19.22  N    155.42  W    31Ml2.2  ISLAND OF HAWAII, HAWAII2020-04-08 11:50',\n",
       " '2020-04-08      11:36:02.28hr 08min ago38.40  N    39.14  E    7ML2.5  EASTERN TURKEY2020-04-08 12:39',\n",
       " '2020-04-08      11:35:22.68hr 09min ago17.98  N    66.73  W    13Md2.6  PUERTO RICO REGION2020-04-08 12:03',\n",
       " '',\n",
       " '12345678910\\x9b»',\n",
       " '']"
      ]
     },
     "execution_count": 8,
     "metadata": {},
     "output_type": "execute_result"
    }
   ],
   "source": [
    "# your code here\n",
    "import re\n",
    "\n",
    "html = requests.get(url).content\n",
    "soup = BeautifulSoup(html, \"lxml\")\n",
    "all_html = [element.text.replace('\\n', '  ').replace('\\xa0', '  ').replace('earthquake', '  ').strip() for element in soup.find_all('tr')]\n",
    "last_20 = all_html[14:34]\n",
    "date = [re.findall('\\d{4}-\\d{2}-\\d{2}', last)[0] for last in last_20]\n",
    "time = [re.findall('\\d{2}\\:\\d{2}\\:\\d{2}', last)[0] for last in last_20]\n",
    "latitude = [re.findall('\\d+\\.\\d+\\s*[NS]', last)[0] for last in last_20]\n",
    "longitude = [re.findall('\\d+\\.\\d+\\s*[WE]', last)[0] for last in last_20]\n",
    "uppercases = [re.findall('[A-Z][A-Z][A-z]+', last) for last in last_20]\n",
    "region = [' '.join(up) for up in uppercases]\n",
    "df = pd.DataFrame(region).rename(columns = {0:'Region'})\n",
    "df['Date'] = date\n",
    "df['Time'] = time\n",
    "df['Latitude'] = latitude\n",
    "df['Longitude'] = longitude\n",
    "df\n",
    "\n",
    "all_html"
   ]
  },
  {
   "cell_type": "code",
   "execution_count": 6,
   "metadata": {
    "colab": {},
    "colab_type": "code",
    "id": "4F--1hpJRoWK"
   },
   "outputs": [],
   "source": [
    "url = 'https://www.emsc-csem.org/Earthquake/'\n",
    "response = requests.get(url)\n",
    "soup = BeautifulSoup(response.content, 'lxml')\n",
    "\n",
    "#I'm doing the following to try to solve the problem in element 11\n",
    "trs = soup.find_all('tr',attrs = {'class':'normal'})\n",
    "td_date = [tr.findChildren()[3] for tr in trs]"
   ]
  },
  {
   "cell_type": "code",
   "execution_count": 7,
   "metadata": {},
   "outputs": [
    {
     "data": {
      "text/plain": [
       "[<td class=\"tabev6\"><b><i style=\"display:none;\">earthquake</i><a href=\"/Earthquake/earthquake.php?id=846252\">2020-04-08   19:20:31.5</a></b><i class=\"ago\" id=\"ago0\">23min ago</i></td>,\n",
       " <span class=\"intensity\" onclick=\"go_details(event,null,'https://www.emsc-csem.org/Earthquake/popup_intensmap.php?id=846255&amp;f=/FELTREPORTS/84/846255/IntensityMap.png');\" onmouseout=\"info_b2('notshow','');\" onmouseover=\"info_b2('show','See the &lt;b&gt; Intensity map&lt;/b&gt;');\" style=\"background-color:#FFFFFF;\">F</span>,\n",
       " <td class=\"tabev6\"><b><i style=\"display:none;\">earthquake</i><a href=\"/Earthquake/earthquake.php?id=846246\">2020-04-08   18:43:15.2</a></b><i class=\"ago\" id=\"ago2\">1hr 00min ago</i></td>,\n",
       " <td class=\"tabev6\"><b><i style=\"display:none;\">earthquake</i><a href=\"/Earthquake/earthquake.php?id=846245\">2020-04-08   18:27:40.5</a></b><i class=\"ago\" id=\"ago3\">1hr 16min ago</i></td>,\n",
       " <td class=\"tabev6\"><b><i style=\"display:none;\">earthquake</i><a href=\"/Earthquake/earthquake.php?id=846244\">2020-04-08   18:14:22.0</a></b><i class=\"ago\" id=\"ago4\">1hr 29min ago</i></td>,\n",
       " <td class=\"tabev6\"><b><i style=\"display:none;\">earthquake</i><a href=\"/Earthquake/earthquake.php?id=846242\">2020-04-08   18:01:46.3</a></b><i class=\"ago\" id=\"ago5\">1hr 42min ago</i></td>,\n",
       " <td class=\"tabev6\"><b><i style=\"display:none;\">earthquake</i><a href=\"/Earthquake/earthquake.php?id=846243\">2020-04-08   17:59:27.0</a></b><i class=\"ago\" id=\"ago6\">1hr 44min ago</i></td>,\n",
       " <td class=\"tabev6\"><b><i style=\"display:none;\">earthquake</i><a href=\"/Earthquake/earthquake.php?id=846241\">2020-04-08   17:53:00.0</a></b><i class=\"ago\" id=\"ago7\">1hr 51min ago</i></td>,\n",
       " <td class=\"tabev6\"><b><i style=\"display:none;\">earthquake</i><a href=\"/Earthquake/earthquake.php?id=846254\">2020-04-08   17:48:45.0</a></b><i class=\"ago\" id=\"ago8\">1hr 55min ago</i></td>,\n",
       " <td class=\"tabev6\"><b><i style=\"display:none;\">earthquake</i><a href=\"/Earthquake/earthquake.php?id=846238\">2020-04-08   17:23:27.0</a></b><i class=\"ago\" id=\"ago9\">2hr 20min ago</i></td>,\n",
       " <td class=\"tabev6\"><b><i style=\"display:none;\">earthquake</i><a href=\"/Earthquake/earthquake.php?id=846232\">2020-04-08   17:12:57.0</a></b><i class=\"ago\" id=\"ago10\">2hr 31min ago</i></td>,\n",
       " <td class=\"tabev6\"><b><i style=\"display:none;\">earthquake</i><a href=\"/Earthquake/earthquake.php?id=846234\">2020-04-08   17:09:13.0</a></b><i class=\"ago\" id=\"ago11\">2hr 34min ago</i></td>,\n",
       " <span class=\"intensity\" onclick=\"go_details(event,null,'https://www.emsc-csem.org/Earthquake/popup_intensmap.php?id=846237&amp;f=/FELTREPORTS/84/846237/IntensityMap.png');\" onmouseout=\"info_b2('notshow','');\" onmouseover=\"info_b2('show','See the &lt;b&gt; Intensity map&lt;/b&gt;');\" style=\"background-color:#FFFFFF;\">F</span>,\n",
       " <td class=\"tabev6\"><b><i style=\"display:none;\">earthquake</i><a href=\"/Earthquake/earthquake.php?id=846230\">2020-04-08   16:51:51.0</a></b><i class=\"ago\" id=\"ago13\">2hr 52min ago</i></td>,\n",
       " <td class=\"tabev6\"><b><i style=\"display:none;\">earthquake</i><a href=\"/Earthquake/earthquake.php?id=846226\">2020-04-08   16:33:41.0</a></b><i class=\"ago\" id=\"ago14\">3hr 10min ago</i></td>,\n",
       " <td class=\"tabev6\"><b><i style=\"display:none;\">earthquake</i><a href=\"/Earthquake/earthquake.php?id=846229\">2020-04-08   16:25:39.0</a></b><i class=\"ago\" id=\"ago15\">3hr 18min ago</i></td>,\n",
       " <td class=\"tabev6\"><b><i style=\"display:none;\">earthquake</i><a href=\"/Earthquake/earthquake.php?id=846233\">2020-04-08   16:22:24.0</a></b><i class=\"ago\" id=\"ago16\">3hr 21min ago</i></td>,\n",
       " <td class=\"tabev6\"><b><i style=\"display:none;\">earthquake</i><a href=\"/Earthquake/earthquake.php?id=846236\">2020-04-08   16:20:20.7</a></b><i class=\"ago\" id=\"ago17\">3hr 23min ago</i></td>,\n",
       " <td class=\"tabev6\"><b><i style=\"display:none;\">earthquake</i><a href=\"/Earthquake/earthquake.php?id=846222\">2020-04-08   16:12:14.0</a></b><i class=\"ago\" id=\"ago18\">3hr 31min ago</i></td>,\n",
       " <td class=\"tabev6\"><b><i style=\"display:none;\">earthquake</i><a href=\"/Earthquake/earthquake.php?id=846224\">2020-04-08   16:04:10.0</a></b><i class=\"ago\" id=\"ago19\">3hr 39min ago</i></td>,\n",
       " <td class=\"tabev6\"><b><i style=\"display:none;\">earthquake</i><a href=\"/Earthquake/earthquake.php?id=846219\">2020-04-08   15:50:12.6</a></b><i class=\"ago\" id=\"ago20\">3hr 53min ago</i></td>,\n",
       " <td class=\"tabev6\"><b><i style=\"display:none;\">earthquake</i><a href=\"/Earthquake/earthquake.php?id=846220\">2020-04-08   15:48:13.8</a></b><i class=\"ago\" id=\"ago21\">3hr 55min ago</i></td>,\n",
       " <td class=\"tabev6\"><b><i style=\"display:none;\">earthquake</i><a href=\"/Earthquake/earthquake.php?id=846218\">2020-04-08   15:46:43.5</a></b><i class=\"ago\" id=\"ago22\">3hr 57min ago</i></td>,\n",
       " <td class=\"tabev6\"><b><i style=\"display:none;\">earthquake</i><a href=\"/Earthquake/earthquake.php?id=846223\">2020-04-08   15:35:52.9</a></b><i class=\"ago\" id=\"ago23\">4hr 08min ago</i></td>,\n",
       " <td class=\"tabev6\"><b><i style=\"display:none;\">earthquake</i><a href=\"/Earthquake/earthquake.php?id=846213\">2020-04-08   15:29:30.0</a></b><i class=\"ago\" id=\"ago24\">4hr 14min ago</i></td>,\n",
       " <td class=\"tabev6\"><b><i style=\"display:none;\">earthquake</i><a href=\"/Earthquake/earthquake.php?id=846214\">2020-04-08   15:16:33.0</a></b><i class=\"ago\" id=\"ago25\">4hr 27min ago</i></td>,\n",
       " <td class=\"tabev0\"></td>,\n",
       " <td class=\"tabev6\"><b><i style=\"display:none;\">earthquake</i><a href=\"/Earthquake/earthquake.php?id=846208\">2020-04-08   14:57:27.0</a></b><i class=\"ago\" id=\"ago27\">4hr 46min ago</i></td>,\n",
       " <td class=\"tabev0\"></td>,\n",
       " <td class=\"tabev6\"><b><i style=\"display:none;\">earthquake</i><a href=\"/Earthquake/earthquake.php?id=846201\">2020-04-08   14:17:30.6</a></b><i class=\"ago\" id=\"ago29\">5hr 26min ago</i></td>,\n",
       " <td class=\"tabev6\"><b><i style=\"display:none;\">earthquake</i><a href=\"/Earthquake/earthquake.php?id=846200\">2020-04-08   14:17:23.4</a></b><i class=\"ago\" id=\"ago30\">5hr 26min ago</i></td>,\n",
       " <td class=\"tabev6\"><b><i style=\"display:none;\">earthquake</i><a href=\"/Earthquake/earthquake.php?id=846203\">2020-04-08   14:15:23.9</a></b><i class=\"ago\" id=\"ago31\">5hr 28min ago</i></td>,\n",
       " <td class=\"tabev6\"><b><i style=\"display:none;\">earthquake</i><a href=\"/Earthquake/earthquake.php?id=846198\">2020-04-08   13:56:35.0</a></b><i class=\"ago\" id=\"ago32\">5hr 47min ago</i></td>,\n",
       " <td class=\"tabev6\"><b><i style=\"display:none;\">earthquake</i><a href=\"/Earthquake/earthquake.php?id=846199\">2020-04-08   13:45:44.3</a></b><i class=\"ago\" id=\"ago33\">5hr 58min ago</i></td>,\n",
       " <td class=\"tabev6\"><b><i style=\"display:none;\">earthquake</i><a href=\"/Earthquake/earthquake.php?id=846194\">2020-04-08   13:33:14.6</a></b><i class=\"ago\" id=\"ago34\">6hr 10min ago</i></td>,\n",
       " <td class=\"tabev6\"><b><i style=\"display:none;\">earthquake</i><a href=\"/Earthquake/earthquake.php?id=846207\">2020-04-08   13:25:45.0</a></b><i class=\"ago\" id=\"ago35\">6hr 18min ago</i></td>,\n",
       " <td class=\"tabev6\"><b><i style=\"display:none;\">earthquake</i><a href=\"/Earthquake/earthquake.php?id=846196\">2020-04-08   13:20:21.2</a></b><i class=\"ago\" id=\"ago36\">6hr 23min ago</i></td>,\n",
       " <td class=\"tabev6\"><b><i style=\"display:none;\">earthquake</i><a href=\"/Earthquake/earthquake.php?id=846211\">2020-04-08   13:13:55.8</a></b><i class=\"ago\" id=\"ago37\">6hr 30min ago</i></td>,\n",
       " <td class=\"tabev6\"><b><i style=\"display:none;\">earthquake</i><a href=\"/Earthquake/earthquake.php?id=846191\">2020-04-08   13:04:07.5</a></b><i class=\"ago\" id=\"ago38\">6hr 39min ago</i></td>,\n",
       " <td class=\"tabev6\"><b><i style=\"display:none;\">earthquake</i><a href=\"/Earthquake/earthquake.php?id=846180\">2020-04-08   12:38:13.9</a></b><i class=\"ago\" id=\"ago39\">7hr 05min ago</i></td>,\n",
       " <td class=\"tabev6\"><b><i style=\"display:none;\">earthquake</i><a href=\"/Earthquake/earthquake.php?id=846178\">2020-04-08   12:32:30.0</a></b><i class=\"ago\" id=\"ago40\">7hr 11min ago</i></td>,\n",
       " <td class=\"tabev6\"><b><i style=\"display:none;\">earthquake</i><a href=\"/Earthquake/earthquake.php?id=846181\">2020-04-08   12:26:37.0</a></b><i class=\"ago\" id=\"ago41\">7hr 17min ago</i></td>,\n",
       " <td class=\"tabev6\"><b><i style=\"display:none;\">earthquake</i><a href=\"/Earthquake/earthquake.php?id=846170\">2020-04-08   12:23:29.2</a></b><i class=\"ago\" id=\"ago42\">7hr 20min ago</i></td>,\n",
       " <td class=\"tabev6\"><b><i style=\"display:none;\">earthquake</i><a href=\"/Earthquake/earthquake.php?id=846172\">2020-04-08   12:14:28.2</a></b><i class=\"ago\" id=\"ago43\">7hr 29min ago</i></td>,\n",
       " <td class=\"tabev6\"><b><i style=\"display:none;\">earthquake</i><a href=\"/Earthquake/earthquake.php?id=846206\">2020-04-08   12:08:25.0</a></b><i class=\"ago\" id=\"ago44\">7hr 35min ago</i></td>,\n",
       " <td class=\"tabev6\"><b><i style=\"display:none;\">earthquake</i><a href=\"/Earthquake/earthquake.php?id=846163\">2020-04-08   11:50:09.0</a></b><i class=\"ago\" id=\"ago45\">7hr 53min ago</i></td>,\n",
       " <td class=\"tabev6\"><b><i style=\"display:none;\">earthquake</i><a href=\"/Earthquake/earthquake.php?id=846171\">2020-04-08   11:50:03.7</a></b><i class=\"ago\" id=\"ago46\">7hr 54min ago</i></td>,\n",
       " <td class=\"tabev6\"><b><i style=\"display:none;\">earthquake</i><a href=\"/Earthquake/earthquake.php?id=846162\">2020-04-08   11:44:46.8</a></b><i class=\"ago\" id=\"ago47\">7hr 59min ago</i></td>,\n",
       " <td class=\"tabev6\"><b><i style=\"display:none;\">earthquake</i><a href=\"/Earthquake/earthquake.php?id=846177\">2020-04-08   11:36:02.2</a></b><i class=\"ago\" id=\"ago48\">8hr 08min ago</i></td>,\n",
       " <td class=\"tabev6\"><b><i style=\"display:none;\">earthquake</i><a href=\"/Earthquake/earthquake.php?id=846167\">2020-04-08   11:35:22.6</a></b><i class=\"ago\" id=\"ago49\">8hr 08min ago</i></td>]"
      ]
     },
     "execution_count": 7,
     "metadata": {},
     "output_type": "execute_result"
    }
   ],
   "source": [
    "td_date"
   ]
  },
  {
   "cell_type": "code",
   "execution_count": null,
   "metadata": {},
   "outputs": [],
   "source": []
  }
 ],
 "metadata": {
  "colab": {
   "collapsed_sections": [],
   "name": "main.ipynb",
   "provenance": []
  },
  "kernelspec": {
   "display_name": "Python 3",
   "language": "python",
   "name": "python3"
  },
  "language_info": {
   "codemirror_mode": {
    "name": "ipython",
    "version": 3
   },
   "file_extension": ".py",
   "mimetype": "text/x-python",
   "name": "python",
   "nbconvert_exporter": "python",
   "pygments_lexer": "ipython3",
   "version": "3.7.4"
  }
 },
 "nbformat": 4,
 "nbformat_minor": 1
}
